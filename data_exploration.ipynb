{
 "cells": [
  {
   "cell_type": "code",
   "execution_count": 1,
   "id": "93c7019c",
   "metadata": {},
   "outputs": [],
   "source": [
    "from pathlib import Path\n",
    "from os import listdir"
   ]
  },
  {
   "cell_type": "code",
   "execution_count": 2,
   "id": "5caaf9da",
   "metadata": {},
   "outputs": [
    {
     "data": {
      "text/plain": [
       "['.git',\n",
       " 'cass',\n",
       " 'slurm-3704435.out',\n",
       " 'README.md',\n",
       " 'preprocessing_CASS.sh',\n",
       " '.ipynb_checkpoints',\n",
       " 'data_exploration.ipynb',\n",
       " '.gitignore',\n",
       " 'Freemium_cass_global_20220417-170000.tar.gz',\n",
       " 'cleaned_files',\n",
       " 'preprocessing_CASS.py',\n",
       " 'create_splits.py',\n",
       " 'environment.yml',\n",
       " 'data_split_20180315',\n",
       " '.vscode']"
      ]
     },
     "execution_count": 2,
     "metadata": {},
     "output_type": "execute_result"
    }
   ],
   "source": [
    "data_split = \"data_split_20180315\"\n",
    "cwd = Path(\".\").resolve()\n",
    "listdir(cwd)"
   ]
  },
  {
   "cell_type": "code",
   "execution_count": 3,
   "id": "4326b65b",
   "metadata": {},
   "outputs": [
    {
     "name": "stdout",
     "output_type": "stream",
     "text": [
      "122476\n",
      "['JURITEXT000007004712.story', 'JURITEXT000007047350.story', 'JURITEXT000007052722.story', 'JURITEXT000007026373.story', 'JURITEXT000007044720.story', 'JURITEXT000007013865.story', 'JURITEXT000006970280.story', 'JURITEXT000007051569.story', 'JURITEXT000007004219.story', 'JURITEXT000007066239.story']\n"
     ]
    }
   ],
   "source": [
    "cleaned_files = listdir(cwd/\"cleaned_files\")\n",
    "print(len(cleaned_files))\n",
    "print(cleaned_files[:10])"
   ]
  },
  {
   "cell_type": "code",
   "execution_count": 4,
   "id": "1bdb378a",
   "metadata": {},
   "outputs": [
    {
     "data": {
      "text/plain": [
       "['all_val.txt', 'all_test.txt', 'all_train.txt']"
      ]
     },
     "execution_count": 4,
     "metadata": {},
     "output_type": "execute_result"
    }
   ],
   "source": [
    "listdir(cwd/data_split)"
   ]
  },
  {
   "cell_type": "code",
   "execution_count": 5,
   "id": "d3904b93",
   "metadata": {},
   "outputs": [
    {
     "name": "stdout",
     "output_type": "stream",
     "text": [
      "103434\n",
      "12916\n",
      "13095\n",
      "129445\n",
      "0.099779829271119\n",
      "0.1011626559542663\n",
      "['JURITEXT000018117768', 'JURITEXT000018117788', 'JURITEXT000018117746', 'JURITEXT000018117778', 'JURITEXT000018835393', 'JURITEXT000018835993', 'JURITEXT000018835964', 'JURITEXT000018835998', 'JURITEXT000018692697', 'JURITEXT000018692691']\n"
     ]
    }
   ],
   "source": [
    "with open(cwd/data_split/\"all_train.txt\") as file:\n",
    "    train_ids = [line.rstrip() for line in file]\n",
    "\n",
    "with open(cwd/data_split/\"all_val.txt\") as file:\n",
    "    val_ids = [line.rstrip() for line in file]\n",
    "\n",
    "with open(cwd/data_split/\"all_test.txt\") as file:\n",
    "    test_ids = [line.rstrip() for line in file]\n",
    "\n",
    "all_ids = train_ids + val_ids + test_ids\n",
    "\n",
    "print(len(train_ids))\n",
    "print(len(val_ids))\n",
    "print(len(test_ids))\n",
    "print(len(all_ids))\n",
    "\n",
    "print(len(val_ids) / len(all_ids))\n",
    "print(len(test_ids) / len(all_ids))\n",
    "\n",
    "print(all_ids[:10])"
   ]
  },
  {
   "cell_type": "code",
   "execution_count": 6,
   "id": "530ccc3a",
   "metadata": {},
   "outputs": [
    {
     "data": {
      "text/plain": [
       "118167"
      ]
     },
     "execution_count": 6,
     "metadata": {},
     "output_type": "execute_result"
    }
   ],
   "source": [
    "cleaned_files_ids = [filename.replace(\".story\", \"\") for filename in cleaned_files]\n",
    "len(set(all_ids).intersection(cleaned_files_ids))"
   ]
  }
 ],
 "metadata": {
  "kernelspec": {
   "display_name": "Python 3 (ipykernel)",
   "language": "python",
   "name": "python3"
  },
  "language_info": {
   "codemirror_mode": {
    "name": "ipython",
    "version": 3
   },
   "file_extension": ".py",
   "mimetype": "text/x-python",
   "name": "python",
   "nbconvert_exporter": "python",
   "pygments_lexer": "ipython3",
   "version": "3.10.12"
  }
 },
 "nbformat": 4,
 "nbformat_minor": 5
}
